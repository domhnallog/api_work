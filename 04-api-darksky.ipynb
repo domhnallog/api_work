{
 "cells": [
  {
   "cell_type": "code",
   "execution_count": 1,
   "metadata": {},
   "outputs": [],
   "source": [
    "import requests\n",
    "\n",
    "from dotenv import load_dotenv\n",
    "load_dotenv()\n",
    "import os\n",
    "secretapikey = os.getenv(\"darksky_apikey\")"
   ]
  },
  {
   "cell_type": "code",
   "execution_count": 2,
   "metadata": {},
   "outputs": [],
   "source": [
    "response = requests.get(f'https://api.darksky.net/forecast/{secretapikey}/41,-74')\n",
    "weather_nyc = response.json()"
   ]
  },
  {
   "cell_type": "code",
   "execution_count": 3,
   "metadata": {},
   "outputs": [
    {
     "name": "stdout",
     "output_type": "stream",
     "text": [
      "dict_keys(['latitude', 'longitude', 'timezone', 'currently', 'minutely', 'hourly', 'daily', 'flags', 'offset'])\n"
     ]
    }
   ],
   "source": [
    "print(weather_nyc.keys()) "
   ]
  },
  {
   "cell_type": "code",
   "execution_count": 4,
   "metadata": {},
   "outputs": [
    {
     "name": "stdout",
     "output_type": "stream",
     "text": [
      "{'time': 1559838654, 'summary': 'Mostly Cloudy', 'icon': 'partly-cloudy-day', 'nearestStormDistance': 28, 'nearestStormBearing': 198, 'precipIntensity': 0, 'precipProbability': 0, 'temperature': 81.71, 'apparentTemperature': 82.64, 'dewPoint': 61.96, 'humidity': 0.51, 'pressure': 1006.54, 'windSpeed': 5.7, 'windGust': 7.11, 'windBearing': 330, 'cloudCover': 0.76, 'uvIndex': 5, 'visibility': 10, 'ozone': 355.61}\n"
     ]
    }
   ],
   "source": [
    "print(weather_nyc['currently'])"
   ]
  },
  {
   "cell_type": "code",
   "execution_count": 5,
   "metadata": {},
   "outputs": [
    {
     "data": {
      "text/plain": [
       "81.71"
      ]
     },
     "execution_count": 5,
     "metadata": {},
     "output_type": "execute_result"
    }
   ],
   "source": [
    "weather_nyc['currently']['temperature']"
   ]
  },
  {
   "cell_type": "code",
   "execution_count": 6,
   "metadata": {},
   "outputs": [
    {
     "data": {
      "text/plain": [
       "64.68"
      ]
     },
     "execution_count": 6,
     "metadata": {},
     "output_type": "execute_result"
    }
   ],
   "source": [
    "response = requests.get(f'https://api.darksky.net/forecast/{secretapikey}/41,2')\n",
    "weather_barca = response.json()\n",
    "weather_barca['currently']['temperature']"
   ]
  },
  {
   "cell_type": "code",
   "execution_count": null,
   "metadata": {},
   "outputs": [],
   "source": [
    "Unimport Update for Git purposes"
   ]
  },
  {
   "cell_type": "code",
   "execution_count": null,
   "metadata": {},
   "outputs": [],
   "source": []
  }
 ],
 "metadata": {
  "kernelspec": {
   "display_name": "Python 3",
   "language": "python",
   "name": "python3"
  },
  "language_info": {
   "codemirror_mode": {
    "name": "ipython",
    "version": 3
   },
   "file_extension": ".py",
   "mimetype": "text/x-python",
   "name": "python",
   "nbconvert_exporter": "python",
   "pygments_lexer": "ipython3",
   "version": "3.7.3"
  }
 },
 "nbformat": 4,
 "nbformat_minor": 2
}
